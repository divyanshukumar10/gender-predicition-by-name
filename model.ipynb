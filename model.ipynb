{
  "nbformat": 4,
  "nbformat_minor": 0,
  "metadata": {
    "colab": {
      "name": "model.ipynb",
      "provenance": []
    },
    "kernelspec": {
      "name": "python3",
      "display_name": "Python 3"
    },
    "accelerator": "GPU"
  },
  "cells": [
    {
      "cell_type": "code",
      "metadata": {
        "id": "FvsuY6Yu4o4v",
        "colab_type": "code",
        "outputId": "8d0d0d4c-d09b-4088-9e4d-c0e616a446a6",
        "colab": {
          "base_uri": "https://localhost:8080/",
          "height": 34
        }
      },
      "source": [
        "cd /content/drive/My Drive/Gender Classification"
      ],
      "execution_count": 2,
      "outputs": [
        {
          "output_type": "stream",
          "text": [
            "/content/drive/My Drive/Gender Classification\n"
          ],
          "name": "stdout"
        }
      ]
    },
    {
      "cell_type": "code",
      "metadata": {
        "id": "AaKmlxCj5P-u",
        "colab_type": "code",
        "outputId": "f35a313b-f63f-4b3f-ad12-dda32a635dad",
        "colab": {
          "base_uri": "https://localhost:8080/",
          "height": 50
        }
      },
      "source": [
        "!unzip 13_7651_compressed_NationalNames.csv.zip"
      ],
      "execution_count": 0,
      "outputs": [
        {
          "output_type": "stream",
          "text": [
            "Archive:  13_7651_compressed_NationalNames.csv.zip\n",
            "replace NationalNames.csv? [y]es, [n]o, [A]ll, [N]one, [r]ename: n\n"
          ],
          "name": "stdout"
        }
      ]
    },
    {
      "cell_type": "code",
      "metadata": {
        "id": "dCpaAuANABfU",
        "colab_type": "code",
        "colab": {
          "base_uri": "https://localhost:8080/",
          "height": 121
        },
        "outputId": "03abc640-5380-415a-907f-8cf733074fb4"
      },
      "source": [
        "from google.colab import drive\n",
        "drive.mount('/content/drive')"
      ],
      "execution_count": 1,
      "outputs": [
        {
          "output_type": "stream",
          "text": [
            "Go to this URL in a browser: https://accounts.google.com/o/oauth2/auth?client_id=947318989803-6bn6qk8qdgf4n4g3pfee6491hc0brc4i.apps.googleusercontent.com&redirect_uri=urn%3aietf%3awg%3aoauth%3a2.0%3aoob&response_type=code&scope=email%20https%3a%2f%2fwww.googleapis.com%2fauth%2fdocs.test%20https%3a%2f%2fwww.googleapis.com%2fauth%2fdrive%20https%3a%2f%2fwww.googleapis.com%2fauth%2fdrive.photos.readonly%20https%3a%2f%2fwww.googleapis.com%2fauth%2fpeopleapi.readonly\n",
            "\n",
            "Enter your authorization code:\n",
            "··········\n",
            "Mounted at /content/drive\n"
          ],
          "name": "stdout"
        }
      ]
    },
    {
      "cell_type": "code",
      "metadata": {
        "id": "T86dki7w5ImB",
        "colab_type": "code",
        "colab": {}
      },
      "source": [
        "import numpy as np\n",
        "import pandas as pd\n"
      ],
      "execution_count": 0,
      "outputs": []
    },
    {
      "cell_type": "code",
      "metadata": {
        "id": "43L4pUVs5km4",
        "colab_type": "code",
        "colab": {}
      },
      "source": [
        "dataset1=pd.read_csv('NationalNames.csv')\n",
        "dataset2=pd.read_csv('name.csv')\n",
        "dataset3=pd.read_csv('indiannames.csv')\n",
        "dataset4=pd.read_csv('nam.csv')\n",
        "dataset5=pd.read_csv('SSA_Names.csv')"
      ],
      "execution_count": 0,
      "outputs": []
    },
    {
      "cell_type": "code",
      "metadata": {
        "id": "mAonBJZA5w8_",
        "colab_type": "code",
        "colab": {}
      },
      "source": [
        "dataset1=dataset1.loc[:,['Name','Gender']]\n",
        "dataset2=dataset2.loc[:,['Name','Gender']]\n",
        "dataset3=dataset3.loc[:,['Name','Gender']]\n",
        "dataset4=dataset4.loc[:,['Name','Gender']]\n",
        "dataset5=dataset5.loc[:,['Name','Gender']]\n",
        "\n"
      ],
      "execution_count": 0,
      "outputs": []
    },
    {
      "cell_type": "code",
      "metadata": {
        "id": "UUzQRZbsXW_T",
        "colab_type": "code",
        "colab": {}
      },
      "source": [
        "data=pd.concat([dataset1,dataset2,dataset3,dataset4,dataset5])"
      ],
      "execution_count": 0,
      "outputs": []
    },
    {
      "cell_type": "code",
      "metadata": {
        "id": "6_Ir0cRTYOe7",
        "colab_type": "code",
        "colab": {}
      },
      "source": [
        "data=data.reset_index()"
      ],
      "execution_count": 0,
      "outputs": []
    },
    {
      "cell_type": "code",
      "metadata": {
        "id": "3c67B7DSYbv8",
        "colab_type": "code",
        "colab": {}
      },
      "source": [
        "dataset=data.drop(['index'],axis=1)"
      ],
      "execution_count": 0,
      "outputs": []
    },
    {
      "cell_type": "code",
      "metadata": {
        "id": "H_7ELql1ZFtw",
        "colab_type": "code",
        "outputId": "24b03e7d-5436-4fc0-8122-9e6e7ff7d33c",
        "colab": {
          "base_uri": "https://localhost:8080/",
          "height": 402
        }
      },
      "source": [
        "dataset"
      ],
      "execution_count": 9,
      "outputs": [
        {
          "output_type": "execute_result",
          "data": {
            "text/html": [
              "<div>\n",
              "<style scoped>\n",
              "    .dataframe tbody tr th:only-of-type {\n",
              "        vertical-align: middle;\n",
              "    }\n",
              "\n",
              "    .dataframe tbody tr th {\n",
              "        vertical-align: top;\n",
              "    }\n",
              "\n",
              "    .dataframe thead th {\n",
              "        text-align: right;\n",
              "    }\n",
              "</style>\n",
              "<table border=\"1\" class=\"dataframe\">\n",
              "  <thead>\n",
              "    <tr style=\"text-align: right;\">\n",
              "      <th></th>\n",
              "      <th>Name</th>\n",
              "      <th>Gender</th>\n",
              "    </tr>\n",
              "  </thead>\n",
              "  <tbody>\n",
              "    <tr>\n",
              "      <th>0</th>\n",
              "      <td>Mary</td>\n",
              "      <td>F</td>\n",
              "    </tr>\n",
              "    <tr>\n",
              "      <th>1</th>\n",
              "      <td>Anna</td>\n",
              "      <td>F</td>\n",
              "    </tr>\n",
              "    <tr>\n",
              "      <th>2</th>\n",
              "      <td>Emma</td>\n",
              "      <td>F</td>\n",
              "    </tr>\n",
              "    <tr>\n",
              "      <th>3</th>\n",
              "      <td>Elizabeth</td>\n",
              "      <td>F</td>\n",
              "    </tr>\n",
              "    <tr>\n",
              "      <th>4</th>\n",
              "      <td>Minnie</td>\n",
              "      <td>F</td>\n",
              "    </tr>\n",
              "    <tr>\n",
              "      <th>...</th>\n",
              "      <td>...</td>\n",
              "      <td>...</td>\n",
              "    </tr>\n",
              "    <tr>\n",
              "      <th>1994026</th>\n",
              "      <td>Zykell</td>\n",
              "      <td>M</td>\n",
              "    </tr>\n",
              "    <tr>\n",
              "      <th>1994027</th>\n",
              "      <td>Zyking</td>\n",
              "      <td>M</td>\n",
              "    </tr>\n",
              "    <tr>\n",
              "      <th>1994028</th>\n",
              "      <td>Zykir</td>\n",
              "      <td>M</td>\n",
              "    </tr>\n",
              "    <tr>\n",
              "      <th>1994029</th>\n",
              "      <td>Zyrus</td>\n",
              "      <td>M</td>\n",
              "    </tr>\n",
              "    <tr>\n",
              "      <th>1994030</th>\n",
              "      <td>Zyus</td>\n",
              "      <td>M</td>\n",
              "    </tr>\n",
              "  </tbody>\n",
              "</table>\n",
              "<p>1994031 rows × 2 columns</p>\n",
              "</div>"
            ],
            "text/plain": [
              "              Name Gender\n",
              "0             Mary      F\n",
              "1             Anna      F\n",
              "2             Emma      F\n",
              "3        Elizabeth      F\n",
              "4           Minnie      F\n",
              "...            ...    ...\n",
              "1994026     Zykell      M\n",
              "1994027     Zyking      M\n",
              "1994028      Zykir      M\n",
              "1994029      Zyrus      M\n",
              "1994030       Zyus      M\n",
              "\n",
              "[1994031 rows x 2 columns]"
            ]
          },
          "metadata": {
            "tags": []
          },
          "execution_count": 9
        }
      ]
    },
    {
      "cell_type": "code",
      "metadata": {
        "id": "8BNyebmSl1Ia",
        "colab_type": "code",
        "outputId": "958610c4-711e-42fe-8f0a-49b4d99981a7",
        "colab": {
          "base_uri": "https://localhost:8080/",
          "height": 34
        }
      },
      "source": [
        "len(dataset['Name'].unique())"
      ],
      "execution_count": 10,
      "outputs": [
        {
          "output_type": "execute_result",
          "data": {
            "text/plain": [
              "110000"
            ]
          },
          "metadata": {
            "tags": []
          },
          "execution_count": 10
        }
      ]
    },
    {
      "cell_type": "code",
      "metadata": {
        "id": "zAPLyZeUAe2U",
        "colab_type": "code",
        "colab": {}
      },
      "source": [
        "dataset.drop_duplicates('Name',ignore_index=True,inplace=True)"
      ],
      "execution_count": 0,
      "outputs": []
    },
    {
      "cell_type": "code",
      "metadata": {
        "id": "5dm4e1rqA5zA",
        "colab_type": "code",
        "outputId": "71852ef3-e755-474a-af52-afd7397206b6",
        "colab": {
          "base_uri": "https://localhost:8080/",
          "height": 34
        }
      },
      "source": [
        "dataset.isnull().values.any()"
      ],
      "execution_count": 12,
      "outputs": [
        {
          "output_type": "execute_result",
          "data": {
            "text/plain": [
              "True"
            ]
          },
          "metadata": {
            "tags": []
          },
          "execution_count": 12
        }
      ]
    },
    {
      "cell_type": "code",
      "metadata": {
        "id": "N-ucWeXaaNwz",
        "colab_type": "code",
        "colab": {}
      },
      "source": [
        "dataset=dataset.dropna()"
      ],
      "execution_count": 0,
      "outputs": []
    },
    {
      "cell_type": "code",
      "metadata": {
        "id": "9DSWvBZ7aWfZ",
        "colab_type": "code",
        "outputId": "9a4008ea-ab97-4388-ca5f-bf8b8980eaea",
        "colab": {
          "base_uri": "https://localhost:8080/",
          "height": 34
        }
      },
      "source": [
        "dataset.isnull().values.any()"
      ],
      "execution_count": 14,
      "outputs": [
        {
          "output_type": "execute_result",
          "data": {
            "text/plain": [
              "False"
            ]
          },
          "metadata": {
            "tags": []
          },
          "execution_count": 14
        }
      ]
    },
    {
      "cell_type": "code",
      "metadata": {
        "id": "4EuERNEE6MMW",
        "colab_type": "code",
        "colab": {}
      },
      "source": [
        "name=dataset['Name']"
      ],
      "execution_count": 0,
      "outputs": []
    },
    {
      "cell_type": "code",
      "metadata": {
        "id": "4VH7YGCc-PaO",
        "colab_type": "code",
        "outputId": "00a3934f-df85-4e09-e121-8ee96aa9fa9f",
        "colab": {
          "base_uri": "https://localhost:8080/",
          "height": 34
        }
      },
      "source": [
        "len(name.unique())"
      ],
      "execution_count": 16,
      "outputs": [
        {
          "output_type": "execute_result",
          "data": {
            "text/plain": [
              "109999"
            ]
          },
          "metadata": {
            "tags": []
          },
          "execution_count": 16
        }
      ]
    },
    {
      "cell_type": "code",
      "metadata": {
        "id": "YlvyTa1b99m2",
        "colab_type": "code",
        "colab": {}
      },
      "source": [
        "name=list(name)"
      ],
      "execution_count": 0,
      "outputs": []
    },
    {
      "cell_type": "code",
      "metadata": {
        "id": "5qWVJ9-4_rPa",
        "colab_type": "code",
        "colab": {}
      },
      "source": [
        "label=list(dataset['Gender'])"
      ],
      "execution_count": 0,
      "outputs": []
    },
    {
      "cell_type": "code",
      "metadata": {
        "id": "0_RJ1L7zBIwa",
        "colab_type": "code",
        "outputId": "684dc1dd-7270-4889-9beb-a2af81514233",
        "colab": {
          "base_uri": "https://localhost:8080/",
          "height": 1000
        }
      },
      "source": [
        "label"
      ],
      "execution_count": 19,
      "outputs": [
        {
          "output_type": "execute_result",
          "data": {
            "text/plain": [
              "['F',\n",
              " 'F',\n",
              " 'F',\n",
              " 'F',\n",
              " 'F',\n",
              " 'F',\n",
              " 'F',\n",
              " 'F',\n",
              " 'F',\n",
              " 'F',\n",
              " 'F',\n",
              " 'F',\n",
              " 'F',\n",
              " 'F',\n",
              " 'F',\n",
              " 'F',\n",
              " 'F',\n",
              " 'F',\n",
              " 'F',\n",
              " 'F',\n",
              " 'F',\n",
              " 'F',\n",
              " 'F',\n",
              " 'F',\n",
              " 'F',\n",
              " 'F',\n",
              " 'F',\n",
              " 'F',\n",
              " 'F',\n",
              " 'F',\n",
              " 'F',\n",
              " 'F',\n",
              " 'F',\n",
              " 'F',\n",
              " 'F',\n",
              " 'F',\n",
              " 'F',\n",
              " 'F',\n",
              " 'F',\n",
              " 'F',\n",
              " 'F',\n",
              " 'F',\n",
              " 'F',\n",
              " 'F',\n",
              " 'F',\n",
              " 'F',\n",
              " 'F',\n",
              " 'F',\n",
              " 'F',\n",
              " 'F',\n",
              " 'F',\n",
              " 'F',\n",
              " 'F',\n",
              " 'F',\n",
              " 'F',\n",
              " 'F',\n",
              " 'F',\n",
              " 'F',\n",
              " 'F',\n",
              " 'F',\n",
              " 'F',\n",
              " 'F',\n",
              " 'F',\n",
              " 'F',\n",
              " 'F',\n",
              " 'F',\n",
              " 'F',\n",
              " 'F',\n",
              " 'F',\n",
              " 'F',\n",
              " 'F',\n",
              " 'F',\n",
              " 'F',\n",
              " 'F',\n",
              " 'F',\n",
              " 'F',\n",
              " 'F',\n",
              " 'F',\n",
              " 'F',\n",
              " 'F',\n",
              " 'F',\n",
              " 'F',\n",
              " 'F',\n",
              " 'F',\n",
              " 'F',\n",
              " 'F',\n",
              " 'F',\n",
              " 'F',\n",
              " 'F',\n",
              " 'F',\n",
              " 'F',\n",
              " 'F',\n",
              " 'F',\n",
              " 'F',\n",
              " 'F',\n",
              " 'F',\n",
              " 'F',\n",
              " 'F',\n",
              " 'F',\n",
              " 'F',\n",
              " 'F',\n",
              " 'F',\n",
              " 'F',\n",
              " 'F',\n",
              " 'F',\n",
              " 'F',\n",
              " 'F',\n",
              " 'F',\n",
              " 'F',\n",
              " 'F',\n",
              " 'F',\n",
              " 'F',\n",
              " 'F',\n",
              " 'F',\n",
              " 'F',\n",
              " 'F',\n",
              " 'F',\n",
              " 'F',\n",
              " 'F',\n",
              " 'F',\n",
              " 'F',\n",
              " 'F',\n",
              " 'F',\n",
              " 'F',\n",
              " 'F',\n",
              " 'F',\n",
              " 'F',\n",
              " 'F',\n",
              " 'F',\n",
              " 'F',\n",
              " 'F',\n",
              " 'F',\n",
              " 'F',\n",
              " 'F',\n",
              " 'F',\n",
              " 'F',\n",
              " 'F',\n",
              " 'F',\n",
              " 'F',\n",
              " 'F',\n",
              " 'F',\n",
              " 'F',\n",
              " 'F',\n",
              " 'F',\n",
              " 'F',\n",
              " 'F',\n",
              " 'F',\n",
              " 'F',\n",
              " 'F',\n",
              " 'F',\n",
              " 'F',\n",
              " 'F',\n",
              " 'F',\n",
              " 'F',\n",
              " 'F',\n",
              " 'F',\n",
              " 'F',\n",
              " 'F',\n",
              " 'F',\n",
              " 'F',\n",
              " 'F',\n",
              " 'F',\n",
              " 'F',\n",
              " 'F',\n",
              " 'F',\n",
              " 'F',\n",
              " 'F',\n",
              " 'F',\n",
              " 'F',\n",
              " 'F',\n",
              " 'F',\n",
              " 'F',\n",
              " 'F',\n",
              " 'F',\n",
              " 'F',\n",
              " 'F',\n",
              " 'F',\n",
              " 'F',\n",
              " 'F',\n",
              " 'F',\n",
              " 'F',\n",
              " 'F',\n",
              " 'F',\n",
              " 'F',\n",
              " 'F',\n",
              " 'F',\n",
              " 'F',\n",
              " 'F',\n",
              " 'F',\n",
              " 'F',\n",
              " 'F',\n",
              " 'F',\n",
              " 'F',\n",
              " 'F',\n",
              " 'F',\n",
              " 'F',\n",
              " 'F',\n",
              " 'F',\n",
              " 'F',\n",
              " 'F',\n",
              " 'F',\n",
              " 'F',\n",
              " 'F',\n",
              " 'F',\n",
              " 'F',\n",
              " 'F',\n",
              " 'F',\n",
              " 'F',\n",
              " 'F',\n",
              " 'F',\n",
              " 'F',\n",
              " 'F',\n",
              " 'F',\n",
              " 'F',\n",
              " 'F',\n",
              " 'F',\n",
              " 'F',\n",
              " 'F',\n",
              " 'F',\n",
              " 'F',\n",
              " 'F',\n",
              " 'F',\n",
              " 'F',\n",
              " 'F',\n",
              " 'F',\n",
              " 'F',\n",
              " 'F',\n",
              " 'F',\n",
              " 'F',\n",
              " 'F',\n",
              " 'F',\n",
              " 'F',\n",
              " 'F',\n",
              " 'F',\n",
              " 'F',\n",
              " 'F',\n",
              " 'F',\n",
              " 'F',\n",
              " 'F',\n",
              " 'F',\n",
              " 'F',\n",
              " 'F',\n",
              " 'F',\n",
              " 'F',\n",
              " 'F',\n",
              " 'F',\n",
              " 'F',\n",
              " 'F',\n",
              " 'F',\n",
              " 'F',\n",
              " 'F',\n",
              " 'F',\n",
              " 'F',\n",
              " 'F',\n",
              " 'F',\n",
              " 'F',\n",
              " 'F',\n",
              " 'F',\n",
              " 'F',\n",
              " 'F',\n",
              " 'F',\n",
              " 'F',\n",
              " 'F',\n",
              " 'F',\n",
              " 'F',\n",
              " 'F',\n",
              " 'F',\n",
              " 'F',\n",
              " 'F',\n",
              " 'F',\n",
              " 'F',\n",
              " 'F',\n",
              " 'F',\n",
              " 'F',\n",
              " 'F',\n",
              " 'F',\n",
              " 'F',\n",
              " 'F',\n",
              " 'F',\n",
              " 'F',\n",
              " 'F',\n",
              " 'F',\n",
              " 'F',\n",
              " 'F',\n",
              " 'F',\n",
              " 'F',\n",
              " 'F',\n",
              " 'F',\n",
              " 'F',\n",
              " 'F',\n",
              " 'F',\n",
              " 'F',\n",
              " 'F',\n",
              " 'F',\n",
              " 'F',\n",
              " 'F',\n",
              " 'F',\n",
              " 'F',\n",
              " 'F',\n",
              " 'F',\n",
              " 'F',\n",
              " 'F',\n",
              " 'F',\n",
              " 'F',\n",
              " 'F',\n",
              " 'F',\n",
              " 'F',\n",
              " 'F',\n",
              " 'F',\n",
              " 'F',\n",
              " 'F',\n",
              " 'F',\n",
              " 'F',\n",
              " 'F',\n",
              " 'F',\n",
              " 'F',\n",
              " 'F',\n",
              " 'F',\n",
              " 'F',\n",
              " 'F',\n",
              " 'F',\n",
              " 'F',\n",
              " 'F',\n",
              " 'F',\n",
              " 'F',\n",
              " 'F',\n",
              " 'F',\n",
              " 'F',\n",
              " 'F',\n",
              " 'F',\n",
              " 'F',\n",
              " 'F',\n",
              " 'F',\n",
              " 'F',\n",
              " 'F',\n",
              " 'F',\n",
              " 'F',\n",
              " 'F',\n",
              " 'F',\n",
              " 'F',\n",
              " 'F',\n",
              " 'F',\n",
              " 'F',\n",
              " 'F',\n",
              " 'F',\n",
              " 'F',\n",
              " 'F',\n",
              " 'F',\n",
              " 'F',\n",
              " 'F',\n",
              " 'F',\n",
              " 'F',\n",
              " 'F',\n",
              " 'F',\n",
              " 'F',\n",
              " 'F',\n",
              " 'F',\n",
              " 'F',\n",
              " 'F',\n",
              " 'F',\n",
              " 'F',\n",
              " 'F',\n",
              " 'F',\n",
              " 'F',\n",
              " 'F',\n",
              " 'F',\n",
              " 'F',\n",
              " 'F',\n",
              " 'F',\n",
              " 'F',\n",
              " 'F',\n",
              " 'F',\n",
              " 'F',\n",
              " 'F',\n",
              " 'F',\n",
              " 'F',\n",
              " 'F',\n",
              " 'F',\n",
              " 'F',\n",
              " 'F',\n",
              " 'F',\n",
              " 'F',\n",
              " 'F',\n",
              " 'F',\n",
              " 'F',\n",
              " 'F',\n",
              " 'F',\n",
              " 'F',\n",
              " 'F',\n",
              " 'F',\n",
              " 'F',\n",
              " 'F',\n",
              " 'F',\n",
              " 'F',\n",
              " 'F',\n",
              " 'F',\n",
              " 'F',\n",
              " 'F',\n",
              " 'F',\n",
              " 'F',\n",
              " 'F',\n",
              " 'F',\n",
              " 'F',\n",
              " 'F',\n",
              " 'F',\n",
              " 'F',\n",
              " 'F',\n",
              " 'F',\n",
              " 'F',\n",
              " 'F',\n",
              " 'F',\n",
              " 'F',\n",
              " 'F',\n",
              " 'F',\n",
              " 'F',\n",
              " 'F',\n",
              " 'F',\n",
              " 'F',\n",
              " 'F',\n",
              " 'F',\n",
              " 'F',\n",
              " 'F',\n",
              " 'F',\n",
              " 'F',\n",
              " 'F',\n",
              " 'F',\n",
              " 'F',\n",
              " 'F',\n",
              " 'F',\n",
              " 'F',\n",
              " 'F',\n",
              " 'F',\n",
              " 'F',\n",
              " 'F',\n",
              " 'F',\n",
              " 'F',\n",
              " 'F',\n",
              " 'F',\n",
              " 'F',\n",
              " 'F',\n",
              " 'F',\n",
              " 'F',\n",
              " 'F',\n",
              " 'F',\n",
              " 'F',\n",
              " 'F',\n",
              " 'F',\n",
              " 'F',\n",
              " 'F',\n",
              " 'F',\n",
              " 'F',\n",
              " 'F',\n",
              " 'F',\n",
              " 'F',\n",
              " 'F',\n",
              " 'F',\n",
              " 'F',\n",
              " 'F',\n",
              " 'F',\n",
              " 'F',\n",
              " 'F',\n",
              " 'F',\n",
              " 'F',\n",
              " 'F',\n",
              " 'F',\n",
              " 'F',\n",
              " 'F',\n",
              " 'F',\n",
              " 'F',\n",
              " 'F',\n",
              " 'F',\n",
              " 'F',\n",
              " 'F',\n",
              " 'F',\n",
              " 'F',\n",
              " 'F',\n",
              " 'F',\n",
              " 'F',\n",
              " 'F',\n",
              " 'F',\n",
              " 'F',\n",
              " 'F',\n",
              " 'F',\n",
              " 'F',\n",
              " 'F',\n",
              " 'F',\n",
              " 'F',\n",
              " 'F',\n",
              " 'F',\n",
              " 'F',\n",
              " 'F',\n",
              " 'F',\n",
              " 'F',\n",
              " 'F',\n",
              " 'F',\n",
              " 'F',\n",
              " 'F',\n",
              " 'F',\n",
              " 'F',\n",
              " 'F',\n",
              " 'F',\n",
              " 'F',\n",
              " 'F',\n",
              " 'F',\n",
              " 'F',\n",
              " 'F',\n",
              " 'F',\n",
              " 'F',\n",
              " 'F',\n",
              " 'F',\n",
              " 'F',\n",
              " 'F',\n",
              " 'F',\n",
              " 'F',\n",
              " 'F',\n",
              " 'F',\n",
              " 'F',\n",
              " 'F',\n",
              " 'F',\n",
              " 'F',\n",
              " 'F',\n",
              " 'F',\n",
              " 'F',\n",
              " 'F',\n",
              " 'F',\n",
              " 'F',\n",
              " 'F',\n",
              " 'F',\n",
              " 'F',\n",
              " 'F',\n",
              " 'F',\n",
              " 'F',\n",
              " 'F',\n",
              " 'F',\n",
              " 'F',\n",
              " 'F',\n",
              " 'F',\n",
              " 'F',\n",
              " 'F',\n",
              " 'F',\n",
              " 'F',\n",
              " 'F',\n",
              " 'F',\n",
              " 'F',\n",
              " 'F',\n",
              " 'F',\n",
              " 'F',\n",
              " 'F',\n",
              " 'F',\n",
              " 'F',\n",
              " 'F',\n",
              " 'F',\n",
              " 'F',\n",
              " 'F',\n",
              " 'F',\n",
              " 'F',\n",
              " 'F',\n",
              " 'F',\n",
              " 'F',\n",
              " 'F',\n",
              " 'F',\n",
              " 'F',\n",
              " 'F',\n",
              " 'F',\n",
              " 'F',\n",
              " 'F',\n",
              " 'F',\n",
              " 'F',\n",
              " 'F',\n",
              " 'F',\n",
              " 'F',\n",
              " 'F',\n",
              " 'F',\n",
              " 'F',\n",
              " 'F',\n",
              " 'F',\n",
              " 'F',\n",
              " 'F',\n",
              " 'F',\n",
              " 'F',\n",
              " 'F',\n",
              " 'F',\n",
              " 'F',\n",
              " 'F',\n",
              " 'F',\n",
              " 'F',\n",
              " 'F',\n",
              " 'F',\n",
              " 'F',\n",
              " 'F',\n",
              " 'F',\n",
              " 'F',\n",
              " 'F',\n",
              " 'F',\n",
              " 'F',\n",
              " 'F',\n",
              " 'F',\n",
              " 'F',\n",
              " 'F',\n",
              " 'F',\n",
              " 'F',\n",
              " 'F',\n",
              " 'F',\n",
              " 'F',\n",
              " 'F',\n",
              " 'F',\n",
              " 'F',\n",
              " 'F',\n",
              " 'F',\n",
              " 'F',\n",
              " 'F',\n",
              " 'F',\n",
              " 'F',\n",
              " 'F',\n",
              " 'F',\n",
              " 'F',\n",
              " 'F',\n",
              " 'F',\n",
              " 'F',\n",
              " 'F',\n",
              " 'F',\n",
              " 'F',\n",
              " 'F',\n",
              " 'F',\n",
              " 'F',\n",
              " 'F',\n",
              " 'F',\n",
              " 'F',\n",
              " 'F',\n",
              " 'F',\n",
              " 'F',\n",
              " 'F',\n",
              " 'F',\n",
              " 'F',\n",
              " 'F',\n",
              " 'F',\n",
              " 'F',\n",
              " 'F',\n",
              " 'F',\n",
              " 'F',\n",
              " 'F',\n",
              " 'F',\n",
              " 'F',\n",
              " 'F',\n",
              " 'F',\n",
              " 'F',\n",
              " 'F',\n",
              " 'F',\n",
              " 'F',\n",
              " 'F',\n",
              " 'F',\n",
              " 'F',\n",
              " 'F',\n",
              " 'F',\n",
              " 'F',\n",
              " 'F',\n",
              " 'F',\n",
              " 'F',\n",
              " 'F',\n",
              " 'F',\n",
              " 'F',\n",
              " 'F',\n",
              " 'F',\n",
              " 'F',\n",
              " 'F',\n",
              " 'F',\n",
              " 'F',\n",
              " 'F',\n",
              " 'F',\n",
              " 'F',\n",
              " 'F',\n",
              " 'F',\n",
              " 'F',\n",
              " 'F',\n",
              " 'F',\n",
              " 'F',\n",
              " 'F',\n",
              " 'F',\n",
              " 'F',\n",
              " 'F',\n",
              " 'F',\n",
              " 'F',\n",
              " 'F',\n",
              " 'F',\n",
              " 'F',\n",
              " 'F',\n",
              " 'F',\n",
              " 'F',\n",
              " 'F',\n",
              " 'F',\n",
              " 'F',\n",
              " 'F',\n",
              " 'F',\n",
              " 'F',\n",
              " 'F',\n",
              " 'F',\n",
              " 'F',\n",
              " 'F',\n",
              " 'F',\n",
              " 'F',\n",
              " 'F',\n",
              " 'F',\n",
              " 'F',\n",
              " 'F',\n",
              " 'F',\n",
              " 'F',\n",
              " 'F',\n",
              " 'F',\n",
              " 'F',\n",
              " 'F',\n",
              " 'F',\n",
              " 'F',\n",
              " 'F',\n",
              " 'F',\n",
              " 'F',\n",
              " 'F',\n",
              " 'F',\n",
              " 'F',\n",
              " 'F',\n",
              " 'F',\n",
              " 'F',\n",
              " 'F',\n",
              " 'F',\n",
              " 'F',\n",
              " 'F',\n",
              " 'F',\n",
              " 'F',\n",
              " 'F',\n",
              " 'F',\n",
              " 'F',\n",
              " 'F',\n",
              " 'F',\n",
              " 'F',\n",
              " 'F',\n",
              " 'F',\n",
              " 'F',\n",
              " 'F',\n",
              " 'F',\n",
              " 'F',\n",
              " 'F',\n",
              " 'F',\n",
              " 'F',\n",
              " 'F',\n",
              " 'F',\n",
              " 'F',\n",
              " 'F',\n",
              " 'F',\n",
              " 'F',\n",
              " 'F',\n",
              " 'F',\n",
              " 'F',\n",
              " 'F',\n",
              " 'F',\n",
              " 'F',\n",
              " 'F',\n",
              " 'F',\n",
              " 'F',\n",
              " 'F',\n",
              " 'F',\n",
              " 'F',\n",
              " 'F',\n",
              " 'F',\n",
              " 'F',\n",
              " 'F',\n",
              " 'F',\n",
              " 'F',\n",
              " 'F',\n",
              " 'F',\n",
              " 'F',\n",
              " 'F',\n",
              " 'F',\n",
              " 'F',\n",
              " 'F',\n",
              " 'F',\n",
              " 'F',\n",
              " 'F',\n",
              " 'F',\n",
              " 'F',\n",
              " 'F',\n",
              " 'F',\n",
              " 'F',\n",
              " 'F',\n",
              " 'F',\n",
              " 'F',\n",
              " 'F',\n",
              " 'F',\n",
              " 'F',\n",
              " 'F',\n",
              " 'F',\n",
              " 'F',\n",
              " 'F',\n",
              " 'F',\n",
              " 'F',\n",
              " 'F',\n",
              " 'F',\n",
              " 'F',\n",
              " 'F',\n",
              " 'F',\n",
              " 'F',\n",
              " 'F',\n",
              " 'F',\n",
              " 'F',\n",
              " 'F',\n",
              " 'F',\n",
              " 'F',\n",
              " 'F',\n",
              " 'F',\n",
              " 'F',\n",
              " 'F',\n",
              " 'F',\n",
              " 'F',\n",
              " 'F',\n",
              " 'F',\n",
              " 'F',\n",
              " 'F',\n",
              " 'F',\n",
              " 'F',\n",
              " 'F',\n",
              " 'F',\n",
              " 'F',\n",
              " 'F',\n",
              " 'F',\n",
              " 'F',\n",
              " 'F',\n",
              " 'F',\n",
              " 'F',\n",
              " 'F',\n",
              " 'F',\n",
              " 'F',\n",
              " 'F',\n",
              " 'F',\n",
              " 'F',\n",
              " 'F',\n",
              " 'F',\n",
              " 'F',\n",
              " 'F',\n",
              " 'F',\n",
              " 'F',\n",
              " 'F',\n",
              " 'F',\n",
              " 'F',\n",
              " 'F',\n",
              " 'F',\n",
              " 'F',\n",
              " 'F',\n",
              " 'F',\n",
              " 'F',\n",
              " 'F',\n",
              " 'F',\n",
              " 'F',\n",
              " 'F',\n",
              " 'F',\n",
              " 'F',\n",
              " 'F',\n",
              " 'F',\n",
              " 'F',\n",
              " 'F',\n",
              " 'F',\n",
              " 'F',\n",
              " 'F',\n",
              " 'F',\n",
              " 'F',\n",
              " 'F',\n",
              " 'F',\n",
              " 'F',\n",
              " 'F',\n",
              " 'F',\n",
              " 'F',\n",
              " 'F',\n",
              " 'F',\n",
              " 'F',\n",
              " 'F',\n",
              " 'F',\n",
              " 'F',\n",
              " 'F',\n",
              " 'F',\n",
              " 'F',\n",
              " 'F',\n",
              " 'F',\n",
              " 'F',\n",
              " 'F',\n",
              " 'F',\n",
              " 'F',\n",
              " 'F',\n",
              " 'F',\n",
              " 'F',\n",
              " 'F',\n",
              " 'F',\n",
              " 'F',\n",
              " 'F',\n",
              " 'F',\n",
              " 'F',\n",
              " 'F',\n",
              " 'F',\n",
              " 'F',\n",
              " 'F',\n",
              " 'F',\n",
              " 'F',\n",
              " 'F',\n",
              " 'F',\n",
              " 'F',\n",
              " 'F',\n",
              " 'F',\n",
              " 'F',\n",
              " 'F',\n",
              " 'F',\n",
              " 'F',\n",
              " 'F',\n",
              " 'F',\n",
              " 'F',\n",
              " 'F',\n",
              " 'F',\n",
              " 'F',\n",
              " 'F',\n",
              " 'F',\n",
              " 'F',\n",
              " 'F',\n",
              " 'F',\n",
              " 'F',\n",
              " 'F',\n",
              " 'F',\n",
              " 'F',\n",
              " 'F',\n",
              " 'F',\n",
              " 'F',\n",
              " 'F',\n",
              " 'F',\n",
              " 'F',\n",
              " 'F',\n",
              " 'F',\n",
              " 'F',\n",
              " 'F',\n",
              " 'F',\n",
              " 'F',\n",
              " 'F',\n",
              " 'F',\n",
              " 'F',\n",
              " 'F',\n",
              " 'F',\n",
              " 'F',\n",
              " 'F',\n",
              " 'F',\n",
              " 'M',\n",
              " 'M',\n",
              " 'M',\n",
              " 'M',\n",
              " 'M',\n",
              " 'M',\n",
              " 'M',\n",
              " 'M',\n",
              " 'M',\n",
              " 'M',\n",
              " 'M',\n",
              " 'M',\n",
              " 'M',\n",
              " 'M',\n",
              " 'M',\n",
              " 'M',\n",
              " 'M',\n",
              " 'M',\n",
              " 'M',\n",
              " 'M',\n",
              " 'M',\n",
              " 'M',\n",
              " 'M',\n",
              " 'M',\n",
              " 'M',\n",
              " 'M',\n",
              " 'M',\n",
              " 'M',\n",
              " 'M',\n",
              " 'M',\n",
              " 'M',\n",
              " 'M',\n",
              " 'M',\n",
              " 'M',\n",
              " 'M',\n",
              " 'M',\n",
              " 'M',\n",
              " 'M',\n",
              " 'M',\n",
              " 'M',\n",
              " 'M',\n",
              " 'M',\n",
              " 'M',\n",
              " 'M',\n",
              " 'M',\n",
              " 'M',\n",
              " 'M',\n",
              " 'M',\n",
              " 'M',\n",
              " 'M',\n",
              " 'M',\n",
              " 'M',\n",
              " 'M',\n",
              " 'M',\n",
              " 'M',\n",
              " 'M',\n",
              " 'M',\n",
              " 'M',\n",
              " ...]"
            ]
          },
          "metadata": {
            "tags": []
          },
          "execution_count": 19
        }
      ]
    },
    {
      "cell_type": "code",
      "metadata": {
        "id": "8dsxQxWTBJwu",
        "colab_type": "code",
        "colab": {}
      },
      "source": [
        "from sklearn.preprocessing import LabelEncoder\n",
        "le=LabelEncoder()"
      ],
      "execution_count": 0,
      "outputs": []
    },
    {
      "cell_type": "code",
      "metadata": {
        "id": "Zub3D9uhBRfd",
        "colab_type": "code",
        "colab": {}
      },
      "source": [
        "labels=le.fit_transform(label)"
      ],
      "execution_count": 0,
      "outputs": []
    },
    {
      "cell_type": "code",
      "metadata": {
        "id": "iHYNjXMgBVmY",
        "colab_type": "code",
        "outputId": "a1a18d1b-093a-4c18-ec70-16b9f2af1e6e",
        "colab": {
          "base_uri": "https://localhost:8080/",
          "height": 34
        }
      },
      "source": [
        "labels"
      ],
      "execution_count": 22,
      "outputs": [
        {
          "output_type": "execute_result",
          "data": {
            "text/plain": [
              "array([0, 0, 0, ..., 0, 0, 0])"
            ]
          },
          "metadata": {
            "tags": []
          },
          "execution_count": 22
        }
      ]
    },
    {
      "cell_type": "code",
      "metadata": {
        "id": "6zglSe53ZRNo",
        "colab_type": "code",
        "outputId": "9457f35c-492f-40e7-d5c0-7014d946f5cd",
        "colab": {
          "base_uri": "https://localhost:8080/",
          "height": 34
        }
      },
      "source": [
        "le.classes_"
      ],
      "execution_count": 23,
      "outputs": [
        {
          "output_type": "execute_result",
          "data": {
            "text/plain": [
              "array(['F', 'M'], dtype='<U1')"
            ]
          },
          "metadata": {
            "tags": []
          },
          "execution_count": 23
        }
      ]
    },
    {
      "cell_type": "code",
      "metadata": {
        "id": "NG9_pL_QBWsc",
        "colab_type": "code",
        "colab": {}
      },
      "source": [
        "from sklearn.feature_extraction.text import CountVectorizer"
      ],
      "execution_count": 0,
      "outputs": []
    },
    {
      "cell_type": "code",
      "metadata": {
        "id": "J2O5ycxFCFi0",
        "colab_type": "code",
        "colab": {}
      },
      "source": [
        "cv=CountVectorizer(analyzer='char')"
      ],
      "execution_count": 0,
      "outputs": []
    },
    {
      "cell_type": "code",
      "metadata": {
        "id": "vrQ-2ZUFCOtr",
        "colab_type": "code",
        "colab": {}
      },
      "source": [
        "names=cv.fit_transform(name).toarray()"
      ],
      "execution_count": 0,
      "outputs": []
    },
    {
      "cell_type": "code",
      "metadata": {
        "id": "Tt63FhsSCUXO",
        "colab_type": "code",
        "outputId": "2958c08a-a69d-4539-aea5-d63ef4c99fdc",
        "colab": {
          "base_uri": "https://localhost:8080/",
          "height": 34
        }
      },
      "source": [
        "len(names[1])"
      ],
      "execution_count": 27,
      "outputs": [
        {
          "output_type": "execute_result",
          "data": {
            "text/plain": [
              "26"
            ]
          },
          "metadata": {
            "tags": []
          },
          "execution_count": 27
        }
      ]
    },
    {
      "cell_type": "code",
      "metadata": {
        "id": "CmoD3GmYDCIx",
        "colab_type": "code",
        "colab": {}
      },
      "source": [
        "from sklearn.model_selection import train_test_split\n",
        "feature_train,feature_test,label_train,label_test=train_test_split(names,labels,test_size=0.2,random_state=42)"
      ],
      "execution_count": 0,
      "outputs": []
    },
    {
      "cell_type": "code",
      "metadata": {
        "id": "nd3aMXkdC3Gj",
        "colab_type": "code",
        "outputId": "15622c9c-36d8-4908-8882-b4617ddee1d4",
        "colab": {
          "base_uri": "https://localhost:8080/",
          "height": 34
        }
      },
      "source": [
        "from sklearn.naive_bayes import MultinomialNB\n",
        "model=MultinomialNB()\n",
        "model.fit(feature_train,label_train)"
      ],
      "execution_count": 29,
      "outputs": [
        {
          "output_type": "execute_result",
          "data": {
            "text/plain": [
              "MultinomialNB(alpha=1.0, class_prior=None, fit_prior=True)"
            ]
          },
          "metadata": {
            "tags": []
          },
          "execution_count": 29
        }
      ]
    },
    {
      "cell_type": "code",
      "metadata": {
        "id": "1uQHaYejEdgX",
        "colab_type": "code",
        "colab": {}
      },
      "source": [
        "label_pred=model.predict(feature_test)"
      ],
      "execution_count": 0,
      "outputs": []
    },
    {
      "cell_type": "code",
      "metadata": {
        "id": "CZ6sgLv1Eozy",
        "colab_type": "code",
        "colab": {}
      },
      "source": [
        "import sklearn.metrics as m"
      ],
      "execution_count": 0,
      "outputs": []
    },
    {
      "cell_type": "code",
      "metadata": {
        "id": "swaKOYFhEw0n",
        "colab_type": "code",
        "outputId": "e46a8de1-8f50-4443-d228-b338542e3a49",
        "colab": {
          "base_uri": "https://localhost:8080/",
          "height": 34
        }
      },
      "source": [
        "m.accuracy_score(label_test,label_pred)"
      ],
      "execution_count": 32,
      "outputs": [
        {
          "output_type": "execute_result",
          "data": {
            "text/plain": [
              "0.6785909090909091"
            ]
          },
          "metadata": {
            "tags": []
          },
          "execution_count": 32
        }
      ]
    },
    {
      "cell_type": "markdown",
      "metadata": {
        "id": "soPLVRacFIVc",
        "colab_type": "text"
      },
      "source": [
        "LSTM"
      ]
    },
    {
      "cell_type": "code",
      "metadata": {
        "id": "JVz5ZCqiGUQX",
        "colab_type": "code",
        "colab": {
          "base_uri": "https://localhost:8080/",
          "height": 34
        },
        "outputId": "bcd30b3f-8735-42ee-f743-00d5779bbd0e"
      },
      "source": [
        "from keras.preprocessing.text import Tokenizer\n",
        "tokenizer = Tokenizer(char_level=True)\n",
        "tokenizer.fit_on_texts(name)\n",
        "sequence_of_int = tokenizer.texts_to_sequences(name)\n"
      ],
      "execution_count": 33,
      "outputs": [
        {
          "output_type": "stream",
          "text": [
            "Using TensorFlow backend.\n"
          ],
          "name": "stderr"
        }
      ]
    },
    {
      "cell_type": "code",
      "metadata": {
        "id": "BgI1NYurGVzn",
        "colab_type": "code",
        "colab": {}
      },
      "source": [
        "from keras.preprocessing.sequence import pad_sequences\n",
        "padsequences=pad_sequences(sequence_of_int,maxlen=15,padding='post')"
      ],
      "execution_count": 0,
      "outputs": []
    },
    {
      "cell_type": "code",
      "metadata": {
        "id": "CxUI9UuTH0d-",
        "colab_type": "code",
        "outputId": "76f2c7df-f2e1-4773-a619-07098aa0142e",
        "colab": {
          "base_uri": "https://localhost:8080/",
          "height": 34
        }
      },
      "source": [
        "len(padsequences[2])"
      ],
      "execution_count": 35,
      "outputs": [
        {
          "output_type": "execute_result",
          "data": {
            "text/plain": [
              "15"
            ]
          },
          "metadata": {
            "tags": []
          },
          "execution_count": 35
        }
      ]
    },
    {
      "cell_type": "code",
      "metadata": {
        "id": "JRh-OrR-HEUn",
        "colab_type": "code",
        "colab": {}
      },
      "source": [
        "from keras.utils.np_utils import to_categorical\n",
        "labels=to_categorical(labels)"
      ],
      "execution_count": 0,
      "outputs": []
    },
    {
      "cell_type": "code",
      "metadata": {
        "id": "GaupIl92H9Rt",
        "colab_type": "code",
        "colab": {}
      },
      "source": [
        ""
      ],
      "execution_count": 0,
      "outputs": []
    },
    {
      "cell_type": "code",
      "metadata": {
        "id": "eaYd-QwbE1zl",
        "colab_type": "code",
        "colab": {}
      },
      "source": [
        "from keras.models import Sequential\n",
        "from keras.layers import Dense,LSTM,Embedding,Dropout"
      ],
      "execution_count": 0,
      "outputs": []
    },
    {
      "cell_type": "code",
      "metadata": {
        "id": "J0TBmNVSRi8N",
        "colab_type": "code",
        "outputId": "db233bfd-9cf1-4b08-ef98-9fee953c4343",
        "colab": {
          "base_uri": "https://localhost:8080/",
          "height": 34
        }
      },
      "source": [
        "padsequences.shape"
      ],
      "execution_count": 38,
      "outputs": [
        {
          "output_type": "execute_result",
          "data": {
            "text/plain": [
              "(109999, 15)"
            ]
          },
          "metadata": {
            "tags": []
          },
          "execution_count": 38
        }
      ]
    },
    {
      "cell_type": "code",
      "metadata": {
        "id": "UiuerVy8SbJ1",
        "colab_type": "code",
        "colab": {}
      },
      "source": [
        "from sklearn.model_selection import train_test_split\n",
        "feature_train,feature_test,label_train,label_test=train_test_split(padsequences,labels,test_size=0.1,random_state=42)"
      ],
      "execution_count": 0,
      "outputs": []
    },
    {
      "cell_type": "code",
      "metadata": {
        "id": "4qlw8ri6F0C8",
        "colab_type": "code",
        "outputId": "54d39fb6-1906-4c83-f818-d25b18251b43",
        "colab": {
          "base_uri": "https://localhost:8080/",
          "height": 319
        }
      },
      "source": [
        "model=Sequential()\n",
        "model.add(Embedding(27,64,input_length=15))\n",
        "model.add(LSTM(2048,return_sequences=True))\n",
        "model.add(LSTM(256,return_sequences=False))\n",
        "model.add(Dropout(0.2))\n",
        "model.add(Dense(2,activation='sigmoid'))\n",
        "model.compile(loss='binary_crossentropy',optimizer='adam',metrics=['accuracy'])\n",
        "model.summary()"
      ],
      "execution_count": 97,
      "outputs": [
        {
          "output_type": "stream",
          "text": [
            "Model: \"sequential_2\"\n",
            "_________________________________________________________________\n",
            "Layer (type)                 Output Shape              Param #   \n",
            "=================================================================\n",
            "embedding_2 (Embedding)      (None, 15, 64)            1728      \n",
            "_________________________________________________________________\n",
            "lstm_3 (LSTM)                (None, 15, 2048)          17309696  \n",
            "_________________________________________________________________\n",
            "lstm_4 (LSTM)                (None, 256)               2360320   \n",
            "_________________________________________________________________\n",
            "dropout_2 (Dropout)          (None, 256)               0         \n",
            "_________________________________________________________________\n",
            "dense_2 (Dense)              (None, 2)                 514       \n",
            "=================================================================\n",
            "Total params: 19,672,258\n",
            "Trainable params: 19,672,258\n",
            "Non-trainable params: 0\n",
            "_________________________________________________________________\n"
          ],
          "name": "stdout"
        }
      ]
    },
    {
      "cell_type": "code",
      "metadata": {
        "id": "z5J9PQBPIyOL",
        "colab_type": "code",
        "outputId": "c6d9e348-3574-4811-dfb4-69971cf3e38c",
        "colab": {
          "base_uri": "https://localhost:8080/",
          "height": 1000
        }
      },
      "source": [
        "model.fit(feature_train,label_train,epochs=50,validation_data=(feature_test,label_test),batch_size=1000)\n"
      ],
      "execution_count": 98,
      "outputs": [
        {
          "output_type": "stream",
          "text": [
            "/usr/local/lib/python3.6/dist-packages/tensorflow/python/framework/indexed_slices.py:434: UserWarning: Converting sparse IndexedSlices to a dense Tensor of unknown shape. This may consume a large amount of memory.\n",
            "  \"Converting sparse IndexedSlices to a dense Tensor of unknown shape. \"\n"
          ],
          "name": "stderr"
        },
        {
          "output_type": "stream",
          "text": [
            "Train on 98999 samples, validate on 11000 samples\n",
            "Epoch 1/50\n",
            "98999/98999 [==============================] - 32s 324us/step - loss: 0.5722 - accuracy: 0.6994 - val_loss: 0.4984 - val_accuracy: 0.7642\n",
            "Epoch 2/50\n",
            "98999/98999 [==============================] - 31s 317us/step - loss: 0.4411 - accuracy: 0.7991 - val_loss: 0.4129 - val_accuracy: 0.8115\n",
            "Epoch 3/50\n",
            "98999/98999 [==============================] - 31s 317us/step - loss: 0.4086 - accuracy: 0.8170 - val_loss: 0.4042 - val_accuracy: 0.8210\n",
            "Epoch 4/50\n",
            "98999/98999 [==============================] - 31s 317us/step - loss: 0.3995 - accuracy: 0.8219 - val_loss: 0.3927 - val_accuracy: 0.8252\n",
            "Epoch 5/50\n",
            "98999/98999 [==============================] - 31s 317us/step - loss: 0.3879 - accuracy: 0.8272 - val_loss: 0.3954 - val_accuracy: 0.8244\n",
            "Epoch 6/50\n",
            "98999/98999 [==============================] - 31s 317us/step - loss: 0.3817 - accuracy: 0.8314 - val_loss: 0.3874 - val_accuracy: 0.8259\n",
            "Epoch 7/50\n",
            "98999/98999 [==============================] - 31s 317us/step - loss: 0.3695 - accuracy: 0.8373 - val_loss: 0.3686 - val_accuracy: 0.8352\n",
            "Epoch 8/50\n",
            "98999/98999 [==============================] - 31s 317us/step - loss: 0.3575 - accuracy: 0.8433 - val_loss: 0.3583 - val_accuracy: 0.8389\n",
            "Epoch 9/50\n",
            "98999/98999 [==============================] - 31s 317us/step - loss: 0.3433 - accuracy: 0.8511 - val_loss: 0.3520 - val_accuracy: 0.8450\n",
            "Epoch 10/50\n",
            "98999/98999 [==============================] - 31s 317us/step - loss: 0.3330 - accuracy: 0.8570 - val_loss: 0.3385 - val_accuracy: 0.8537\n",
            "Epoch 11/50\n",
            "98999/98999 [==============================] - 31s 317us/step - loss: 0.3221 - accuracy: 0.8631 - val_loss: 0.3366 - val_accuracy: 0.8526\n",
            "Epoch 12/50\n",
            "98999/98999 [==============================] - 31s 317us/step - loss: 0.3103 - accuracy: 0.8683 - val_loss: 0.3211 - val_accuracy: 0.8609\n",
            "Epoch 13/50\n",
            "98999/98999 [==============================] - 31s 317us/step - loss: 0.2993 - accuracy: 0.8730 - val_loss: 0.3117 - val_accuracy: 0.8674\n",
            "Epoch 14/50\n",
            "98999/98999 [==============================] - 31s 317us/step - loss: 0.2852 - accuracy: 0.8793 - val_loss: 0.3108 - val_accuracy: 0.8671\n",
            "Epoch 15/50\n",
            "98999/98999 [==============================] - 31s 317us/step - loss: 0.2728 - accuracy: 0.8849 - val_loss: 0.3002 - val_accuracy: 0.8728\n",
            "Epoch 16/50\n",
            "98999/98999 [==============================] - 31s 317us/step - loss: 0.2599 - accuracy: 0.8912 - val_loss: 0.2983 - val_accuracy: 0.8740\n",
            "Epoch 17/50\n",
            "98999/98999 [==============================] - 31s 317us/step - loss: 0.2456 - accuracy: 0.8983 - val_loss: 0.2878 - val_accuracy: 0.8788\n",
            "Epoch 18/50\n",
            "98999/98999 [==============================] - 31s 317us/step - loss: 0.2277 - accuracy: 0.9068 - val_loss: 0.2978 - val_accuracy: 0.8795\n",
            "Epoch 19/50\n",
            "98999/98999 [==============================] - 31s 317us/step - loss: 0.2103 - accuracy: 0.9138 - val_loss: 0.2839 - val_accuracy: 0.8849\n",
            "Epoch 20/50\n",
            "98999/98999 [==============================] - 31s 317us/step - loss: 0.1909 - accuracy: 0.9230 - val_loss: 0.2940 - val_accuracy: 0.8851\n",
            "Epoch 21/50\n",
            "98999/98999 [==============================] - 31s 317us/step - loss: 0.1758 - accuracy: 0.9289 - val_loss: 0.2937 - val_accuracy: 0.8854\n",
            "Epoch 22/50\n",
            "98999/98999 [==============================] - 31s 317us/step - loss: 0.1569 - accuracy: 0.9366 - val_loss: 0.3001 - val_accuracy: 0.8894\n",
            "Epoch 23/50\n",
            "98999/98999 [==============================] - 31s 317us/step - loss: 0.1387 - accuracy: 0.9445 - val_loss: 0.3007 - val_accuracy: 0.8899\n",
            "Epoch 24/50\n",
            "98999/98999 [==============================] - 31s 317us/step - loss: 0.1240 - accuracy: 0.9502 - val_loss: 0.3401 - val_accuracy: 0.8934\n",
            "Epoch 25/50\n",
            "98999/98999 [==============================] - 31s 317us/step - loss: 0.1086 - accuracy: 0.9565 - val_loss: 0.3341 - val_accuracy: 0.8923\n",
            "Epoch 26/50\n",
            "98999/98999 [==============================] - 31s 317us/step - loss: 0.0919 - accuracy: 0.9631 - val_loss: 0.3428 - val_accuracy: 0.8904\n",
            "Epoch 27/50\n",
            "98999/98999 [==============================] - 31s 317us/step - loss: 0.0775 - accuracy: 0.9694 - val_loss: 0.4165 - val_accuracy: 0.8873\n",
            "Epoch 28/50\n",
            "98999/98999 [==============================] - 31s 317us/step - loss: 0.0700 - accuracy: 0.9732 - val_loss: 0.3946 - val_accuracy: 0.8888\n",
            "Epoch 29/50\n",
            "98999/98999 [==============================] - 31s 317us/step - loss: 0.0591 - accuracy: 0.9776 - val_loss: 0.4416 - val_accuracy: 0.8889\n",
            "Epoch 30/50\n",
            "98999/98999 [==============================] - 31s 317us/step - loss: 0.0502 - accuracy: 0.9811 - val_loss: 0.4081 - val_accuracy: 0.8870\n",
            "Epoch 31/50\n",
            "98999/98999 [==============================] - 31s 317us/step - loss: 0.0431 - accuracy: 0.9840 - val_loss: 0.4683 - val_accuracy: 0.8890\n",
            "Epoch 32/50\n",
            "98999/98999 [==============================] - 31s 317us/step - loss: 0.0391 - accuracy: 0.9856 - val_loss: 0.4691 - val_accuracy: 0.8895\n",
            "Epoch 33/50\n",
            "98999/98999 [==============================] - 31s 317us/step - loss: 0.0295 - accuracy: 0.9894 - val_loss: 0.4789 - val_accuracy: 0.8888\n",
            "Epoch 34/50\n",
            "98999/98999 [==============================] - 31s 317us/step - loss: 0.0289 - accuracy: 0.9895 - val_loss: 0.5191 - val_accuracy: 0.8860\n",
            "Epoch 35/50\n",
            "98999/98999 [==============================] - 31s 317us/step - loss: 0.0252 - accuracy: 0.9910 - val_loss: 0.4998 - val_accuracy: 0.8899\n",
            "Epoch 36/50\n",
            "98999/98999 [==============================] - 31s 317us/step - loss: 0.0251 - accuracy: 0.9910 - val_loss: 0.5146 - val_accuracy: 0.8886\n",
            "Epoch 37/50\n",
            "98999/98999 [==============================] - 31s 317us/step - loss: 0.0226 - accuracy: 0.9916 - val_loss: 0.5099 - val_accuracy: 0.8911\n",
            "Epoch 38/50\n",
            "98999/98999 [==============================] - 31s 317us/step - loss: 0.0210 - accuracy: 0.9919 - val_loss: 0.5644 - val_accuracy: 0.8894\n",
            "Epoch 39/50\n",
            "98999/98999 [==============================] - 31s 317us/step - loss: 0.0211 - accuracy: 0.9919 - val_loss: 0.5705 - val_accuracy: 0.8884\n",
            "Epoch 40/50\n",
            "98999/98999 [==============================] - 31s 317us/step - loss: 0.0205 - accuracy: 0.9924 - val_loss: 0.5600 - val_accuracy: 0.8891\n",
            "Epoch 41/50\n",
            "98999/98999 [==============================] - 31s 317us/step - loss: 0.0195 - accuracy: 0.9926 - val_loss: 0.5635 - val_accuracy: 0.8912\n",
            "Epoch 42/50\n",
            "98999/98999 [==============================] - 31s 317us/step - loss: 0.0190 - accuracy: 0.9925 - val_loss: 0.5421 - val_accuracy: 0.8892\n",
            "Epoch 43/50\n",
            "98999/98999 [==============================] - 31s 317us/step - loss: 0.0176 - accuracy: 0.9928 - val_loss: 0.6022 - val_accuracy: 0.8885\n",
            "Epoch 44/50\n",
            "98999/98999 [==============================] - 31s 318us/step - loss: 0.0169 - accuracy: 0.9934 - val_loss: 0.5826 - val_accuracy: 0.8915\n",
            "Epoch 45/50\n",
            "98999/98999 [==============================] - 31s 318us/step - loss: 0.0149 - accuracy: 0.9941 - val_loss: 0.5842 - val_accuracy: 0.8911\n",
            "Epoch 46/50\n",
            "98999/98999 [==============================] - 31s 317us/step - loss: 0.0161 - accuracy: 0.9937 - val_loss: 0.5840 - val_accuracy: 0.8946\n",
            "Epoch 47/50\n",
            "98999/98999 [==============================] - 31s 318us/step - loss: 0.0139 - accuracy: 0.9944 - val_loss: 0.5676 - val_accuracy: 0.8900\n",
            "Epoch 48/50\n",
            "98999/98999 [==============================] - 31s 317us/step - loss: 0.0151 - accuracy: 0.9942 - val_loss: 0.5652 - val_accuracy: 0.8900\n",
            "Epoch 49/50\n",
            "98999/98999 [==============================] - 31s 317us/step - loss: 0.0149 - accuracy: 0.9939 - val_loss: 0.5722 - val_accuracy: 0.8883\n",
            "Epoch 50/50\n",
            "98999/98999 [==============================] - 31s 318us/step - loss: 0.0157 - accuracy: 0.9935 - val_loss: 0.5584 - val_accuracy: 0.8909\n"
          ],
          "name": "stdout"
        },
        {
          "output_type": "execute_result",
          "data": {
            "text/plain": [
              "<keras.callbacks.callbacks.History at 0x7f80621f2eb8>"
            ]
          },
          "metadata": {
            "tags": []
          },
          "execution_count": 98
        }
      ]
    },
    {
      "cell_type": "code",
      "metadata": {
        "id": "rC2ixj4T-knV",
        "colab_type": "code",
        "colab": {}
      },
      "source": [
        "model.save('model.h5')"
      ],
      "execution_count": 0,
      "outputs": []
    },
    {
      "cell_type": "code",
      "metadata": {
        "id": "epoanv6C_pRM",
        "colab_type": "code",
        "colab": {}
      },
      "source": [
        "import sklearn.metrics as m\n"
      ],
      "execution_count": 0,
      "outputs": []
    },
    {
      "cell_type": "code",
      "metadata": {
        "id": "jrjGjQqi_vwZ",
        "colab_type": "code",
        "colab": {}
      },
      "source": [
        "label_pred=model.predict(feature_test)"
      ],
      "execution_count": 0,
      "outputs": []
    },
    {
      "cell_type": "code",
      "metadata": {
        "id": "WTu8ZqHB_8-c",
        "colab_type": "code",
        "colab": {}
      },
      "source": [
        "label_pred=np.argmax(label_pred,axis=1)"
      ],
      "execution_count": 0,
      "outputs": []
    },
    {
      "cell_type": "code",
      "metadata": {
        "id": "BxtSM8fmAOFl",
        "colab_type": "code",
        "outputId": "ffe24aed-101f-4953-8061-7efd4ccd02f2",
        "colab": {
          "base_uri": "https://localhost:8080/",
          "height": 34
        }
      },
      "source": [
        "label_pred"
      ],
      "execution_count": 103,
      "outputs": [
        {
          "output_type": "execute_result",
          "data": {
            "text/plain": [
              "array([1, 1, 1, ..., 0, 0, 0])"
            ]
          },
          "metadata": {
            "tags": []
          },
          "execution_count": 103
        }
      ]
    },
    {
      "cell_type": "code",
      "metadata": {
        "id": "lqcxyCHBADdt",
        "colab_type": "code",
        "colab": {}
      },
      "source": [
        "l_test=np.argmax(label_test,axis=1)"
      ],
      "execution_count": 0,
      "outputs": []
    },
    {
      "cell_type": "code",
      "metadata": {
        "id": "kIZc5x1y_v0V",
        "colab_type": "code",
        "outputId": "844c0de1-26c4-4a13-8cb2-887eafa3a628",
        "colab": {
          "base_uri": "https://localhost:8080/",
          "height": 34
        }
      },
      "source": [
        "m.accuracy_score(l_test,label_pred)"
      ],
      "execution_count": 105,
      "outputs": [
        {
          "output_type": "execute_result",
          "data": {
            "text/plain": [
              "0.8908181818181818"
            ]
          },
          "metadata": {
            "tags": []
          },
          "execution_count": 105
        }
      ]
    },
    {
      "cell_type": "code",
      "metadata": {
        "id": "FPCi8cs5AbOo",
        "colab_type": "code",
        "outputId": "0b0ad9af-c054-4669-8ba5-0dfa7b47011d",
        "colab": {
          "base_uri": "https://localhost:8080/",
          "height": 168
        }
      },
      "source": [
        "print(m.classification_report(l_test,label_pred))"
      ],
      "execution_count": 106,
      "outputs": [
        {
          "output_type": "stream",
          "text": [
            "              precision    recall  f1-score   support\n",
            "\n",
            "           0       0.91      0.91      0.91      6726\n",
            "           1       0.86      0.86      0.86      4274\n",
            "\n",
            "    accuracy                           0.89     11000\n",
            "   macro avg       0.88      0.89      0.89     11000\n",
            "weighted avg       0.89      0.89      0.89     11000\n",
            "\n"
          ],
          "name": "stdout"
        }
      ]
    },
    {
      "cell_type": "code",
      "metadata": {
        "id": "wYFXBISiAhGv",
        "colab_type": "code",
        "outputId": "3a66d9ac-a445-4d18-ea78-6bf065a39a86",
        "colab": {
          "base_uri": "https://localhost:8080/",
          "height": 50
        }
      },
      "source": [
        "m.confusion_matrix(l_test,label_pred)"
      ],
      "execution_count": 107,
      "outputs": [
        {
          "output_type": "execute_result",
          "data": {
            "text/plain": [
              "array([[6108,  618],\n",
              "       [ 583, 3691]])"
            ]
          },
          "metadata": {
            "tags": []
          },
          "execution_count": 107
        }
      ]
    },
    {
      "cell_type": "code",
      "metadata": {
        "id": "P8a91f8B-nU6",
        "colab_type": "code",
        "colab": {}
      },
      "source": [
        "from keras.models import load_model"
      ],
      "execution_count": 0,
      "outputs": []
    },
    {
      "cell_type": "code",
      "metadata": {
        "id": "q7LUaLnb--b3",
        "colab_type": "code",
        "colab": {}
      },
      "source": [
        "import pickle"
      ],
      "execution_count": 0,
      "outputs": []
    },
    {
      "cell_type": "code",
      "metadata": {
        "id": "-UAP2C43_A15",
        "colab_type": "code",
        "colab": {}
      },
      "source": [
        "pickle.dump(tokenizer,open('tokenizer.pkl','wb+'),protocol=pickle.HIGHEST_PROTOCOL)"
      ],
      "execution_count": 0,
      "outputs": []
    },
    {
      "cell_type": "code",
      "metadata": {
        "id": "0R7cNwsr_TR3",
        "colab_type": "code",
        "colab": {}
      },
      "source": [
        "tokenizer=pickle.load(open('tokenizer.pkl','rb+'))"
      ],
      "execution_count": 0,
      "outputs": []
    },
    {
      "cell_type": "code",
      "metadata": {
        "id": "ea0PpAde_bkj",
        "colab_type": "code",
        "outputId": "f3438eab-38d9-4234-a3a6-96fb550c776b",
        "colab": {
          "base_uri": "https://localhost:8080/",
          "height": 454
        }
      },
      "source": [
        "tokenizer.index_word"
      ],
      "execution_count": 112,
      "outputs": [
        {
          "output_type": "execute_result",
          "data": {
            "text/plain": [
              "{1: 'a',\n",
              " 2: 'e',\n",
              " 3: 'n',\n",
              " 4: 'i',\n",
              " 5: 'r',\n",
              " 6: 'l',\n",
              " 7: 's',\n",
              " 8: 'h',\n",
              " 9: 't',\n",
              " 10: 'o',\n",
              " 11: 'y',\n",
              " 12: 'm',\n",
              " 13: 'd',\n",
              " 14: 'k',\n",
              " 15: 'u',\n",
              " 16: 'c',\n",
              " 17: 'j',\n",
              " 18: 'b',\n",
              " 19: 'v',\n",
              " 20: 'g',\n",
              " 21: 'z',\n",
              " 22: 'p',\n",
              " 23: 'w',\n",
              " 24: 'f',\n",
              " 25: 'q',\n",
              " 26: 'x'}"
            ]
          },
          "metadata": {
            "tags": []
          },
          "execution_count": 112
        }
      ]
    },
    {
      "cell_type": "code",
      "metadata": {
        "id": "2aa7lTia_fGU",
        "colab_type": "code",
        "colab": {}
      },
      "source": [
        "def input(n):\n",
        "  q=tokenizer.texts_to_sequences(n)\n",
        "  q=[i[0] for i in q]\n",
        "  q1=[]\n",
        "  q1.append(q)\n",
        "  s=pad_sequences(q1,maxlen=15,padding='post')\n",
        "  return s"
      ],
      "execution_count": 0,
      "outputs": []
    },
    {
      "cell_type": "code",
      "metadata": {
        "id": "_R91URSXBP7-",
        "colab_type": "code",
        "outputId": "4701e044-e591-4c45-d802-d9c92506096e",
        "colab": {
          "base_uri": "https://localhost:8080/",
          "height": 34
        }
      },
      "source": [
        "tokenizer.texts_to_sequences('kamesh')"
      ],
      "execution_count": 114,
      "outputs": [
        {
          "output_type": "execute_result",
          "data": {
            "text/plain": [
              "[[14], [1], [12], [2], [7], [8]]"
            ]
          },
          "metadata": {
            "tags": []
          },
          "execution_count": 114
        }
      ]
    },
    {
      "cell_type": "code",
      "metadata": {
        "id": "LGVq3z9uBHTZ",
        "colab_type": "code",
        "outputId": "14a493ee-c497-42e1-d954-47218a28b2d0",
        "colab": {
          "base_uri": "https://localhost:8080/",
          "height": 50
        }
      },
      "source": [
        "input('kamesh')"
      ],
      "execution_count": 115,
      "outputs": [
        {
          "output_type": "execute_result",
          "data": {
            "text/plain": [
              "array([[14,  1, 12,  2,  7,  8,  0,  0,  0,  0,  0,  0,  0,  0,  0]],\n",
              "      dtype=int32)"
            ]
          },
          "metadata": {
            "tags": []
          },
          "execution_count": 115
        }
      ]
    },
    {
      "cell_type": "code",
      "metadata": {
        "id": "yCN-3oqMBK8f",
        "colab_type": "code",
        "colab": {}
      },
      "source": [
        "def pred(n):\n",
        "  w=model.predict(input(n))\n",
        "  w=np.argmax(w,axis=1)\n",
        "  return w[0]"
      ],
      "execution_count": 0,
      "outputs": []
    },
    {
      "cell_type": "code",
      "metadata": {
        "id": "pYJxqTBbBgmr",
        "colab_type": "code",
        "outputId": "3518acd9-8970-4e0b-b182-3c019e8798d5",
        "colab": {
          "base_uri": "https://localhost:8080/",
          "height": 34
        }
      },
      "source": [
        "pred('kamesh')"
      ],
      "execution_count": 117,
      "outputs": [
        {
          "output_type": "execute_result",
          "data": {
            "text/plain": [
              "1"
            ]
          },
          "metadata": {
            "tags": []
          },
          "execution_count": 117
        }
      ]
    },
    {
      "cell_type": "code",
      "metadata": {
        "id": "QEYjrfCNBvYu",
        "colab_type": "code",
        "outputId": "94f65c61-0038-4156-9413-f7adb1b910dc",
        "colab": {
          "base_uri": "https://localhost:8080/",
          "height": 34
        }
      },
      "source": [
        "pred('rajesh')"
      ],
      "execution_count": 118,
      "outputs": [
        {
          "output_type": "execute_result",
          "data": {
            "text/plain": [
              "1"
            ]
          },
          "metadata": {
            "tags": []
          },
          "execution_count": 118
        }
      ]
    },
    {
      "cell_type": "code",
      "metadata": {
        "id": "JSIGChhvB0jS",
        "colab_type": "code",
        "outputId": "cbc0b607-4f88-48af-f861-a534dbc7349d",
        "colab": {
          "base_uri": "https://localhost:8080/",
          "height": 34
        }
      },
      "source": [
        "pred('sudha')"
      ],
      "execution_count": 119,
      "outputs": [
        {
          "output_type": "execute_result",
          "data": {
            "text/plain": [
              "0"
            ]
          },
          "metadata": {
            "tags": []
          },
          "execution_count": 119
        }
      ]
    },
    {
      "cell_type": "code",
      "metadata": {
        "id": "B-eA91vCB36T",
        "colab_type": "code",
        "outputId": "1426b010-897f-41d0-c549-fba69502151d",
        "colab": {
          "base_uri": "https://localhost:8080/",
          "height": 34
        }
      },
      "source": [
        "pred('srihasa')"
      ],
      "execution_count": 120,
      "outputs": [
        {
          "output_type": "execute_result",
          "data": {
            "text/plain": [
              "0"
            ]
          },
          "metadata": {
            "tags": []
          },
          "execution_count": 120
        }
      ]
    },
    {
      "cell_type": "code",
      "metadata": {
        "id": "LKubzEajCLW9",
        "colab_type": "code",
        "outputId": "18365d78-1cb5-4864-83ae-9ce2d0f32998",
        "colab": {
          "base_uri": "https://localhost:8080/",
          "height": 34
        }
      },
      "source": [
        "pred('alex')"
      ],
      "execution_count": 121,
      "outputs": [
        {
          "output_type": "execute_result",
          "data": {
            "text/plain": [
              "1"
            ]
          },
          "metadata": {
            "tags": []
          },
          "execution_count": 121
        }
      ]
    },
    {
      "cell_type": "code",
      "metadata": {
        "id": "0DZpcwIGCQnU",
        "colab_type": "code",
        "outputId": "dcfa6549-6a37-439e-fa65-a7ba57687320",
        "colab": {
          "base_uri": "https://localhost:8080/",
          "height": 34
        }
      },
      "source": [
        "pred('preethi')"
      ],
      "execution_count": 122,
      "outputs": [
        {
          "output_type": "execute_result",
          "data": {
            "text/plain": [
              "0"
            ]
          },
          "metadata": {
            "tags": []
          },
          "execution_count": 122
        }
      ]
    },
    {
      "cell_type": "code",
      "metadata": {
        "id": "3vqfloDQCVQw",
        "colab_type": "code",
        "outputId": "890c31df-78b5-48d5-d5f2-eb7a883fff1e",
        "colab": {
          "base_uri": "https://localhost:8080/",
          "height": 34
        }
      },
      "source": [
        "pred('John')"
      ],
      "execution_count": 123,
      "outputs": [
        {
          "output_type": "execute_result",
          "data": {
            "text/plain": [
              "0"
            ]
          },
          "metadata": {
            "tags": []
          },
          "execution_count": 123
        }
      ]
    },
    {
      "cell_type": "code",
      "metadata": {
        "id": "nAWrrdqpCYV2",
        "colab_type": "code",
        "outputId": "2f0cd357-e5de-492d-df9b-9ab4a81acb4e",
        "colab": {
          "base_uri": "https://localhost:8080/",
          "height": 34
        }
      },
      "source": [
        "pred('mahesh')"
      ],
      "execution_count": 124,
      "outputs": [
        {
          "output_type": "execute_result",
          "data": {
            "text/plain": [
              "1"
            ]
          },
          "metadata": {
            "tags": []
          },
          "execution_count": 124
        }
      ]
    },
    {
      "cell_type": "code",
      "metadata": {
        "id": "zgOOiUdjCasG",
        "colab_type": "code",
        "outputId": "e21167a4-5e22-4e7f-fa12-ff0137de4966",
        "colab": {
          "base_uri": "https://localhost:8080/",
          "height": 34
        }
      },
      "source": [
        "pred('raju')"
      ],
      "execution_count": 125,
      "outputs": [
        {
          "output_type": "execute_result",
          "data": {
            "text/plain": [
              "1"
            ]
          },
          "metadata": {
            "tags": []
          },
          "execution_count": 125
        }
      ]
    },
    {
      "cell_type": "code",
      "metadata": {
        "id": "2_lZSmZYCdIJ",
        "colab_type": "code",
        "outputId": "7be54d0a-8f8f-40ff-b3a6-531b26adfe88",
        "colab": {
          "base_uri": "https://localhost:8080/",
          "height": 34
        }
      },
      "source": [
        "pred('abhitha')"
      ],
      "execution_count": 126,
      "outputs": [
        {
          "output_type": "execute_result",
          "data": {
            "text/plain": [
              "0"
            ]
          },
          "metadata": {
            "tags": []
          },
          "execution_count": 126
        }
      ]
    },
    {
      "cell_type": "code",
      "metadata": {
        "id": "fFWS8JHjCgPD",
        "colab_type": "code",
        "outputId": "23404850-4ac9-4bb4-dab6-4991b246139f",
        "colab": {
          "base_uri": "https://localhost:8080/",
          "height": 34
        }
      },
      "source": [
        "pred('ratnamahadevi')"
      ],
      "execution_count": 127,
      "outputs": [
        {
          "output_type": "execute_result",
          "data": {
            "text/plain": [
              "0"
            ]
          },
          "metadata": {
            "tags": []
          },
          "execution_count": 127
        }
      ]
    },
    {
      "cell_type": "code",
      "metadata": {
        "id": "0TulNDhWClRz",
        "colab_type": "code",
        "outputId": "dae5bacb-2089-4249-d756-c8467290dfa7",
        "colab": {
          "base_uri": "https://localhost:8080/",
          "height": 34
        }
      },
      "source": [
        "pred('srimukhi')"
      ],
      "execution_count": 128,
      "outputs": [
        {
          "output_type": "execute_result",
          "data": {
            "text/plain": [
              "1"
            ]
          },
          "metadata": {
            "tags": []
          },
          "execution_count": 128
        }
      ]
    },
    {
      "cell_type": "code",
      "metadata": {
        "id": "SdidUVoNCos0",
        "colab_type": "code",
        "outputId": "cc48ee22-c100-4d17-ce62-ef788c60a952",
        "colab": {
          "base_uri": "https://localhost:8080/",
          "height": 34
        }
      },
      "source": [
        "pred('rajashekhar')"
      ],
      "execution_count": 129,
      "outputs": [
        {
          "output_type": "execute_result",
          "data": {
            "text/plain": [
              "1"
            ]
          },
          "metadata": {
            "tags": []
          },
          "execution_count": 129
        }
      ]
    },
    {
      "cell_type": "code",
      "metadata": {
        "id": "tGFX8w1mCrmX",
        "colab_type": "code",
        "outputId": "b635be1b-93c9-4cf8-e9bd-6370ec432f0f",
        "colab": {
          "base_uri": "https://localhost:8080/",
          "height": 34
        }
      },
      "source": [
        "pred('manga')"
      ],
      "execution_count": 130,
      "outputs": [
        {
          "output_type": "execute_result",
          "data": {
            "text/plain": [
              "0"
            ]
          },
          "metadata": {
            "tags": []
          },
          "execution_count": 130
        }
      ]
    },
    {
      "cell_type": "code",
      "metadata": {
        "id": "S8xkYyQMC4V1",
        "colab_type": "code",
        "outputId": "c7bd71bf-ed32-4dbf-8e74-61d7bd30d7ad",
        "colab": {
          "base_uri": "https://localhost:8080/",
          "height": 34
        }
      },
      "source": [
        "pred('katyayani')"
      ],
      "execution_count": 131,
      "outputs": [
        {
          "output_type": "execute_result",
          "data": {
            "text/plain": [
              "0"
            ]
          },
          "metadata": {
            "tags": []
          },
          "execution_count": 131
        }
      ]
    },
    {
      "cell_type": "code",
      "metadata": {
        "id": "uMi0b-n4C80W",
        "colab_type": "code",
        "outputId": "890b1b67-4dc7-4b34-82f2-661b9c9c3f2f",
        "colab": {
          "base_uri": "https://localhost:8080/",
          "height": 34
        }
      },
      "source": [
        "pred('prakash')"
      ],
      "execution_count": 132,
      "outputs": [
        {
          "output_type": "execute_result",
          "data": {
            "text/plain": [
              "1"
            ]
          },
          "metadata": {
            "tags": []
          },
          "execution_count": 132
        }
      ]
    },
    {
      "cell_type": "code",
      "metadata": {
        "id": "42_F4QUeDJun",
        "colab_type": "code",
        "outputId": "43d39fd0-320c-4477-a856-348058c7bcbb",
        "colab": {
          "base_uri": "https://localhost:8080/",
          "height": 34
        }
      },
      "source": [
        "pred('shanmukh')"
      ],
      "execution_count": 138,
      "outputs": [
        {
          "output_type": "execute_result",
          "data": {
            "text/plain": [
              "0"
            ]
          },
          "metadata": {
            "tags": []
          },
          "execution_count": 138
        }
      ]
    },
    {
      "cell_type": "code",
      "metadata": {
        "id": "iUAu9kwsDOBC",
        "colab_type": "code",
        "outputId": "3f326732-15d4-4e9e-d928-d10be50cb58e",
        "colab": {
          "base_uri": "https://localhost:8080/",
          "height": 34
        }
      },
      "source": [
        "pred('bhargav')"
      ],
      "execution_count": 139,
      "outputs": [
        {
          "output_type": "execute_result",
          "data": {
            "text/plain": [
              "1"
            ]
          },
          "metadata": {
            "tags": []
          },
          "execution_count": 139
        }
      ]
    },
    {
      "cell_type": "code",
      "metadata": {
        "id": "PvaMG9B3DQka",
        "colab_type": "code",
        "outputId": "4112b2cf-da3c-43d5-8400-cefa4312ddd8",
        "colab": {
          "base_uri": "https://localhost:8080/",
          "height": 34
        }
      },
      "source": [
        "pred('aditya')"
      ],
      "execution_count": 140,
      "outputs": [
        {
          "output_type": "execute_result",
          "data": {
            "text/plain": [
              "1"
            ]
          },
          "metadata": {
            "tags": []
          },
          "execution_count": 140
        }
      ]
    },
    {
      "cell_type": "code",
      "metadata": {
        "id": "Dw2F0U41DSh0",
        "colab_type": "code",
        "outputId": "2105c204-2d3b-4a76-ba83-2ad4054ff580",
        "colab": {
          "base_uri": "https://localhost:8080/",
          "height": 34
        }
      },
      "source": [
        "pred('akshar')"
      ],
      "execution_count": 141,
      "outputs": [
        {
          "output_type": "execute_result",
          "data": {
            "text/plain": [
              "1"
            ]
          },
          "metadata": {
            "tags": []
          },
          "execution_count": 141
        }
      ]
    },
    {
      "cell_type": "code",
      "metadata": {
        "id": "KFxRgmghDUnr",
        "colab_type": "code",
        "outputId": "839ee8ef-e516-44f8-d9bb-1c05e3fda9ed",
        "colab": {
          "base_uri": "https://localhost:8080/",
          "height": 34
        }
      },
      "source": [
        "pred('madhav')"
      ],
      "execution_count": 142,
      "outputs": [
        {
          "output_type": "execute_result",
          "data": {
            "text/plain": [
              "1"
            ]
          },
          "metadata": {
            "tags": []
          },
          "execution_count": 142
        }
      ]
    },
    {
      "cell_type": "code",
      "metadata": {
        "id": "Jibn2fEUDWqs",
        "colab_type": "code",
        "outputId": "a62e938c-2a34-4ee1-9fba-2ef7fbb673c6",
        "colab": {
          "base_uri": "https://localhost:8080/",
          "height": 34
        }
      },
      "source": [
        "pred('madhavi')"
      ],
      "execution_count": 143,
      "outputs": [
        {
          "output_type": "execute_result",
          "data": {
            "text/plain": [
              "0"
            ]
          },
          "metadata": {
            "tags": []
          },
          "execution_count": 143
        }
      ]
    },
    {
      "cell_type": "code",
      "metadata": {
        "id": "zPKOn7bfDZaM",
        "colab_type": "code",
        "outputId": "e16590e0-44d6-4b0c-f859-1c21eee34de2",
        "colab": {
          "base_uri": "https://localhost:8080/",
          "height": 34
        }
      },
      "source": [
        "pred('durga')"
      ],
      "execution_count": 144,
      "outputs": [
        {
          "output_type": "execute_result",
          "data": {
            "text/plain": [
              "0"
            ]
          },
          "metadata": {
            "tags": []
          },
          "execution_count": 144
        }
      ]
    },
    {
      "cell_type": "code",
      "metadata": {
        "id": "CvON1wiFD08t",
        "colab_type": "code",
        "outputId": "7c45c3c3-5268-4762-8373-58d4acaebad8",
        "colab": {
          "base_uri": "https://localhost:8080/",
          "height": 34
        }
      },
      "source": [
        "pred('saisudha')"
      ],
      "execution_count": 145,
      "outputs": [
        {
          "output_type": "execute_result",
          "data": {
            "text/plain": [
              "0"
            ]
          },
          "metadata": {
            "tags": []
          },
          "execution_count": 145
        }
      ]
    },
    {
      "cell_type": "code",
      "metadata": {
        "id": "fO23GIRnD2qY",
        "colab_type": "code",
        "outputId": "7d570835-bbd2-48fb-ba4f-45103f445a91",
        "colab": {
          "base_uri": "https://localhost:8080/",
          "height": 34
        }
      },
      "source": [
        "pred('durgesh')"
      ],
      "execution_count": 146,
      "outputs": [
        {
          "output_type": "execute_result",
          "data": {
            "text/plain": [
              "1"
            ]
          },
          "metadata": {
            "tags": []
          },
          "execution_count": 146
        }
      ]
    },
    {
      "cell_type": "code",
      "metadata": {
        "id": "IDWyF798EBeo",
        "colab_type": "code",
        "outputId": "c916fdab-9ab2-4e9a-e5ea-7cfda34a2db4",
        "colab": {
          "base_uri": "https://localhost:8080/",
          "height": 34
        }
      },
      "source": [
        "pred('rangesh')"
      ],
      "execution_count": 147,
      "outputs": [
        {
          "output_type": "execute_result",
          "data": {
            "text/plain": [
              "1"
            ]
          },
          "metadata": {
            "tags": []
          },
          "execution_count": 147
        }
      ]
    },
    {
      "cell_type": "code",
      "metadata": {
        "id": "2Rh0v2B-Es2K",
        "colab_type": "code",
        "outputId": "2aac7ae3-d9be-4d80-c2b7-05ce101f9ed0",
        "colab": {
          "base_uri": "https://localhost:8080/",
          "height": 34
        }
      },
      "source": [
        "pred('rangarao')"
      ],
      "execution_count": 148,
      "outputs": [
        {
          "output_type": "execute_result",
          "data": {
            "text/plain": [
              "1"
            ]
          },
          "metadata": {
            "tags": []
          },
          "execution_count": 148
        }
      ]
    },
    {
      "cell_type": "code",
      "metadata": {
        "id": "dfGdepoPE2pq",
        "colab_type": "code",
        "outputId": "6ef0c471-72c1-4bcd-9a27-65a4fd2f80aa",
        "colab": {
          "base_uri": "https://localhost:8080/",
          "height": 34
        }
      },
      "source": [
        "pred('kameshwari')"
      ],
      "execution_count": 149,
      "outputs": [
        {
          "output_type": "execute_result",
          "data": {
            "text/plain": [
              "0"
            ]
          },
          "metadata": {
            "tags": []
          },
          "execution_count": 149
        }
      ]
    },
    {
      "cell_type": "code",
      "metadata": {
        "id": "w0f2OX0pFCFn",
        "colab_type": "code",
        "outputId": "d9edc745-a864-4579-ed79-9fbf5ad0a14a",
        "colab": {
          "base_uri": "https://localhost:8080/",
          "height": 34
        }
      },
      "source": [
        "pred('kameswararao')"
      ],
      "execution_count": 150,
      "outputs": [
        {
          "output_type": "execute_result",
          "data": {
            "text/plain": [
              "1"
            ]
          },
          "metadata": {
            "tags": []
          },
          "execution_count": 150
        }
      ]
    },
    {
      "cell_type": "code",
      "metadata": {
        "id": "nPEQAEd9FKVp",
        "colab_type": "code",
        "colab": {}
      },
      "source": [
        "model.save('model.h5')"
      ],
      "execution_count": 0,
      "outputs": []
    },
    {
      "cell_type": "code",
      "metadata": {
        "id": "Gk85RKC8FQK6",
        "colab_type": "code",
        "outputId": "bcf9ab6f-ca7f-4c2e-ca35-8370f5a58c3f",
        "colab": {
          "base_uri": "https://localhost:8080/",
          "height": 34
        }
      },
      "source": [
        "pred('srilekha')"
      ],
      "execution_count": 152,
      "outputs": [
        {
          "output_type": "execute_result",
          "data": {
            "text/plain": [
              "0"
            ]
          },
          "metadata": {
            "tags": []
          },
          "execution_count": 152
        }
      ]
    },
    {
      "cell_type": "code",
      "metadata": {
        "id": "rRVDunySFnFu",
        "colab_type": "code",
        "outputId": "c72d72c1-7664-4d89-e99f-0e2fae45db70",
        "colab": {
          "base_uri": "https://localhost:8080/",
          "height": 34
        }
      },
      "source": [
        "pred('srikhar')"
      ],
      "execution_count": 153,
      "outputs": [
        {
          "output_type": "execute_result",
          "data": {
            "text/plain": [
              "1"
            ]
          },
          "metadata": {
            "tags": []
          },
          "execution_count": 153
        }
      ]
    },
    {
      "cell_type": "code",
      "metadata": {
        "id": "9MTIyVHSFrOI",
        "colab_type": "code",
        "colab": {
          "base_uri": "https://localhost:8080/",
          "height": 34
        },
        "outputId": "338702ca-2d52-4877-c6fb-14e215272762"
      },
      "source": [
        "pred('aliabhatt')"
      ],
      "execution_count": 154,
      "outputs": [
        {
          "output_type": "execute_result",
          "data": {
            "text/plain": [
              "0"
            ]
          },
          "metadata": {
            "tags": []
          },
          "execution_count": 154
        }
      ]
    },
    {
      "cell_type": "code",
      "metadata": {
        "id": "A9XVci76NXaU",
        "colab_type": "code",
        "colab": {
          "base_uri": "https://localhost:8080/",
          "height": 34
        },
        "outputId": "b3199831-2d4e-46e9-c1a6-9af781e18012"
      },
      "source": [
        "pred('aryabatt')"
      ],
      "execution_count": 156,
      "outputs": [
        {
          "output_type": "execute_result",
          "data": {
            "text/plain": [
              "1"
            ]
          },
          "metadata": {
            "tags": []
          },
          "execution_count": 156
        }
      ]
    },
    {
      "cell_type": "code",
      "metadata": {
        "id": "9c9bSIzrNa_u",
        "colab_type": "code",
        "colab": {
          "base_uri": "https://localhost:8080/",
          "height": 34
        },
        "outputId": "666e3eae-c98e-47cf-958d-5a6de0fb641c"
      },
      "source": [
        "pred('harsh')"
      ],
      "execution_count": 160,
      "outputs": [
        {
          "output_type": "execute_result",
          "data": {
            "text/plain": [
              "1"
            ]
          },
          "metadata": {
            "tags": []
          },
          "execution_count": 160
        }
      ]
    },
    {
      "cell_type": "code",
      "metadata": {
        "id": "XoJtBiZVNhEF",
        "colab_type": "code",
        "colab": {
          "base_uri": "https://localhost:8080/",
          "height": 34
        },
        "outputId": "080a7088-8f05-4eed-9e1c-0f05e203da6e"
      },
      "source": [
        "pred('garimasingh')"
      ],
      "execution_count": 161,
      "outputs": [
        {
          "output_type": "execute_result",
          "data": {
            "text/plain": [
              "0"
            ]
          },
          "metadata": {
            "tags": []
          },
          "execution_count": 161
        }
      ]
    },
    {
      "cell_type": "code",
      "metadata": {
        "id": "zu9koa9PNqao",
        "colab_type": "code",
        "colab": {
          "base_uri": "https://localhost:8080/",
          "height": 34
        },
        "outputId": "0610b975-7ff9-4c1f-908a-4de19eea8436"
      },
      "source": [
        "pred('prabhkiratsingh')"
      ],
      "execution_count": 164,
      "outputs": [
        {
          "output_type": "execute_result",
          "data": {
            "text/plain": [
              "1"
            ]
          },
          "metadata": {
            "tags": []
          },
          "execution_count": 164
        }
      ]
    },
    {
      "cell_type": "code",
      "metadata": {
        "id": "UNGO-hrUNspQ",
        "colab_type": "code",
        "colab": {
          "base_uri": "https://localhost:8080/",
          "height": 34
        },
        "outputId": "6137ea81-a187-4c3d-92e3-3e9e2619e89a"
      },
      "source": [
        "pred('rakesh')"
      ],
      "execution_count": 165,
      "outputs": [
        {
          "output_type": "execute_result",
          "data": {
            "text/plain": [
              "1"
            ]
          },
          "metadata": {
            "tags": []
          },
          "execution_count": 165
        }
      ]
    },
    {
      "cell_type": "code",
      "metadata": {
        "id": "851y6LCqN0g7",
        "colab_type": "code",
        "colab": {
          "base_uri": "https://localhost:8080/",
          "height": 34
        },
        "outputId": "24841b37-4ec7-4b31-c562-3bd16c47f1dc"
      },
      "source": [
        "pred('uday')"
      ],
      "execution_count": 166,
      "outputs": [
        {
          "output_type": "execute_result",
          "data": {
            "text/plain": [
              "1"
            ]
          },
          "metadata": {
            "tags": []
          },
          "execution_count": 166
        }
      ]
    },
    {
      "cell_type": "code",
      "metadata": {
        "id": "RI6XMS0cN3J1",
        "colab_type": "code",
        "colab": {
          "base_uri": "https://localhost:8080/",
          "height": 34
        },
        "outputId": "b00a5fe9-7c28-4c2d-c59f-a1fbbcf01bc9"
      },
      "source": [
        "pred('krishna')"
      ],
      "execution_count": 167,
      "outputs": [
        {
          "output_type": "execute_result",
          "data": {
            "text/plain": [
              "1"
            ]
          },
          "metadata": {
            "tags": []
          },
          "execution_count": 167
        }
      ]
    },
    {
      "cell_type": "code",
      "metadata": {
        "id": "TQgZUVNMN5Ti",
        "colab_type": "code",
        "colab": {
          "base_uri": "https://localhost:8080/",
          "height": 34
        },
        "outputId": "d3949f4a-de2a-463e-bf04-23175f876f5c"
      },
      "source": [
        "pred('ram')"
      ],
      "execution_count": 168,
      "outputs": [
        {
          "output_type": "execute_result",
          "data": {
            "text/plain": [
              "1"
            ]
          },
          "metadata": {
            "tags": []
          },
          "execution_count": 168
        }
      ]
    },
    {
      "cell_type": "code",
      "metadata": {
        "id": "pbXbPDuON7i6",
        "colab_type": "code",
        "colab": {
          "base_uri": "https://localhost:8080/",
          "height": 34
        },
        "outputId": "8fd9545b-f2ad-4350-b349-a836c3a69271"
      },
      "source": [
        "pred('satyasai')"
      ],
      "execution_count": 170,
      "outputs": [
        {
          "output_type": "execute_result",
          "data": {
            "text/plain": [
              "1"
            ]
          },
          "metadata": {
            "tags": []
          },
          "execution_count": 170
        }
      ]
    },
    {
      "cell_type": "code",
      "metadata": {
        "id": "VGlaKHVpN-nQ",
        "colab_type": "code",
        "colab": {
          "base_uri": "https://localhost:8080/",
          "height": 34
        },
        "outputId": "969ef0b1-aa28-40cb-d4ca-837a0f567693"
      },
      "source": [
        "pred('divyansh')"
      ],
      "execution_count": 171,
      "outputs": [
        {
          "output_type": "execute_result",
          "data": {
            "text/plain": [
              "1"
            ]
          },
          "metadata": {
            "tags": []
          },
          "execution_count": 171
        }
      ]
    },
    {
      "cell_type": "code",
      "metadata": {
        "id": "ACyQsC8MOEm1",
        "colab_type": "code",
        "colab": {
          "base_uri": "https://localhost:8080/",
          "height": 34
        },
        "outputId": "cfd07021-50de-47b5-816f-c20f71487894"
      },
      "source": [
        "pred('anushka')"
      ],
      "execution_count": 172,
      "outputs": [
        {
          "output_type": "execute_result",
          "data": {
            "text/plain": [
              "0"
            ]
          },
          "metadata": {
            "tags": []
          },
          "execution_count": 172
        }
      ]
    },
    {
      "cell_type": "code",
      "metadata": {
        "id": "-ZfpE4wdOGzU",
        "colab_type": "code",
        "colab": {
          "base_uri": "https://localhost:8080/",
          "height": 34
        },
        "outputId": "f2c54c6b-2e42-40d1-bff7-203f87e17347"
      },
      "source": [
        "pred('kajol')"
      ],
      "execution_count": 173,
      "outputs": [
        {
          "output_type": "execute_result",
          "data": {
            "text/plain": [
              "0"
            ]
          },
          "metadata": {
            "tags": []
          },
          "execution_count": 173
        }
      ]
    },
    {
      "cell_type": "code",
      "metadata": {
        "id": "zBbGJN-cOKA0",
        "colab_type": "code",
        "colab": {
          "base_uri": "https://localhost:8080/",
          "height": 34
        },
        "outputId": "ec2985f8-df7f-4c25-d881-3e0c8280ed33"
      },
      "source": [
        "pred('rithvik')"
      ],
      "execution_count": 174,
      "outputs": [
        {
          "output_type": "execute_result",
          "data": {
            "text/plain": [
              "1"
            ]
          },
          "metadata": {
            "tags": []
          },
          "execution_count": 174
        }
      ]
    },
    {
      "cell_type": "code",
      "metadata": {
        "id": "G8FqszTFOdWw",
        "colab_type": "code",
        "colab": {
          "base_uri": "https://localhost:8080/",
          "height": 34
        },
        "outputId": "46fb0a30-9135-4678-df30-b39c25318f3e"
      },
      "source": [
        "pred('AlamKhan')"
      ],
      "execution_count": 175,
      "outputs": [
        {
          "output_type": "execute_result",
          "data": {
            "text/plain": [
              "1"
            ]
          },
          "metadata": {
            "tags": []
          },
          "execution_count": 175
        }
      ]
    },
    {
      "cell_type": "code",
      "metadata": {
        "id": "P4nF7eTmOgaC",
        "colab_type": "code",
        "colab": {
          "base_uri": "https://localhost:8080/",
          "height": 34
        },
        "outputId": "eb79713c-5fb5-46a3-c457-748b4e3d3c18"
      },
      "source": [
        "pred('revathi')"
      ],
      "execution_count": 176,
      "outputs": [
        {
          "output_type": "execute_result",
          "data": {
            "text/plain": [
              "0"
            ]
          },
          "metadata": {
            "tags": []
          },
          "execution_count": 176
        }
      ]
    },
    {
      "cell_type": "code",
      "metadata": {
        "id": "iX7k8TTdOkCW",
        "colab_type": "code",
        "colab": {
          "base_uri": "https://localhost:8080/",
          "height": 34
        },
        "outputId": "c1ed2f0c-4b3e-465f-b93f-78e601e73ca2"
      },
      "source": [
        "pred('deepika')"
      ],
      "execution_count": 177,
      "outputs": [
        {
          "output_type": "execute_result",
          "data": {
            "text/plain": [
              "0"
            ]
          },
          "metadata": {
            "tags": []
          },
          "execution_count": 177
        }
      ]
    },
    {
      "cell_type": "code",
      "metadata": {
        "id": "zxWolUBQOnqh",
        "colab_type": "code",
        "colab": {
          "base_uri": "https://localhost:8080/",
          "height": 34
        },
        "outputId": "c1c10687-0f59-4084-a697-36128076041f"
      },
      "source": [
        "pred('bunty')"
      ],
      "execution_count": 178,
      "outputs": [
        {
          "output_type": "execute_result",
          "data": {
            "text/plain": [
              "1"
            ]
          },
          "metadata": {
            "tags": []
          },
          "execution_count": 178
        }
      ]
    },
    {
      "cell_type": "code",
      "metadata": {
        "id": "RxsGOETqOsHK",
        "colab_type": "code",
        "colab": {
          "base_uri": "https://localhost:8080/",
          "height": 34
        },
        "outputId": "b98cf068-08cf-4edb-a3c1-5a9769647187"
      },
      "source": [
        "pred('pandu')"
      ],
      "execution_count": 180,
      "outputs": [
        {
          "output_type": "execute_result",
          "data": {
            "text/plain": [
              "1"
            ]
          },
          "metadata": {
            "tags": []
          },
          "execution_count": 180
        }
      ]
    },
    {
      "cell_type": "code",
      "metadata": {
        "id": "2sfb9nAAOucm",
        "colab_type": "code",
        "colab": {}
      },
      "source": [
        ""
      ],
      "execution_count": 0,
      "outputs": []
    }
  ]
}